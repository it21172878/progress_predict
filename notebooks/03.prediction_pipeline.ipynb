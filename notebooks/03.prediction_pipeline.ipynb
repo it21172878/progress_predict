{
 "cells": [
  {
   "cell_type": "code",
   "execution_count": 28,
   "id": "8ca67a0b-fdec-4c90-adb4-cd8471af7772",
   "metadata": {},
   "outputs": [],
   "source": [
    "import numpy as np\n",
    "import pandas as pd\n",
    "import re\n",
    "import string\n",
    "import pickle"
   ]
  },
  {
   "cell_type": "code",
   "execution_count": 29,
   "id": "05380c4f-9dc2-4c82-bfda-95112fadb09c",
   "metadata": {},
   "outputs": [],
   "source": [
    "def remove_punctuations(text):\n",
    "    for punctuation in string.punctuation:\n",
    "        text=text.replace(punctuation,'')\n",
    "    return text"
   ]
  },
  {
   "cell_type": "code",
   "execution_count": 30,
   "id": "4716cc9f-0382-4fd9-a356-0c6c9c1066e3",
   "metadata": {},
   "outputs": [],
   "source": [
    "with open(\"../static/model/model.pickle\",\"rb\") as f:\n",
    "    model = pickle.load(f)"
   ]
  },
  {
   "cell_type": "code",
   "execution_count": 31,
   "id": "d31a9dfd-352c-4394-930f-2d1c807d434a",
   "metadata": {},
   "outputs": [],
   "source": [
    "with open('../static/model/corpora/stopwords/english','r') as file:\n",
    "    sw=file.read().splitlines()"
   ]
  },
  {
   "cell_type": "code",
   "execution_count": 32,
   "id": "04915140-ce1e-4768-a729-d5af3493fb82",
   "metadata": {},
   "outputs": [],
   "source": [
    "vocab=pd.read_csv(\"../static/model/vocabulary.txt\",header=None)\n",
    "tokens=vocab[0].tolist()"
   ]
  },
  {
   "cell_type": "code",
   "execution_count": 33,
   "id": "e3b6ccbb-80a5-4136-bdec-9085667f0e5b",
   "metadata": {},
   "outputs": [],
   "source": [
    "from nltk.stem import PorterStemmer\n",
    "ps=PorterStemmer()"
   ]
  },
  {
   "cell_type": "code",
   "execution_count": 34,
   "id": "faf90253-48eb-4c45-b5d0-b51aecd2526e",
   "metadata": {},
   "outputs": [],
   "source": [
    "def preprocessing(text):\n",
    "    data=pd.DataFrame([text],columns=['tweet'])\n",
    "    data['tweet']=data['tweet'].apply(lambda x:\" \".join(x.lower() for x in x.split()))\n",
    "    data['tweet']=data['tweet'].apply(lambda x:\" \".join(re.sub(r'^https?:\\/\\/.*[\\r\\n]*','',x,flags=re.MULTILINE) for x in x.split()))\n",
    "    data['tweet']=data['tweet'].apply(remove_punctuations)\n",
    "    data['tweet']=data['tweet'].str.replace('\\\\d+', '',regex=True)\n",
    "    data['tweet']=data['tweet'].apply(lambda x:\" \".join(x for x in x.split() if x not in sw))\n",
    "    data['tweet']=data['tweet'].apply(lambda x:\" \".join(ps.stem(x) for x in x.split()))\n",
    "    return data['tweet']"
   ]
  },
  {
   "cell_type": "code",
   "execution_count": 35,
   "id": "ecae3510-a86d-411a-a310-d278432cb6a8",
   "metadata": {},
   "outputs": [],
   "source": [
    "def vectorizer(ds, vocabulary):\n",
    "    vectorized_list = []\n",
    "\n",
    "    for sentence in ds:\n",
    "        sentence_list = np.zeros(len(vocabulary))\n",
    "\n",
    "        for i in range(len(vocabulary)):\n",
    "            if vocabulary[i] in sentence.split():\n",
    "                sentence_list[i]=1\n",
    "\n",
    "        vectorized_list.append(sentence_list)\n",
    "\n",
    "    vectorized_list_new = np.asarray(vectorized_list, dtype=np.float32)\n",
    "    return vectorized_list_new"
   ]
  },
  {
   "cell_type": "code",
   "execution_count": 48,
   "id": "3006b078-8cbc-4386-82c8-86307dcd8a8c",
   "metadata": {},
   "outputs": [],
   "source": [
    "def get_prediction(vectorized_text):\n",
    "    prediction = model.predict(vectorized_text)\n",
    "    if prediction ==1:\n",
    "        return 'negative'\n",
    "    else:\n",
    "        return 'positive'"
   ]
  },
  {
   "cell_type": "code",
   "execution_count": 52,
   "id": "e16c72f2-797e-4b3e-aa96-d99d32ab5f51",
   "metadata": {},
   "outputs": [
    {
     "data": {
      "text/plain": [
       "'positive'"
      ]
     },
     "execution_count": 52,
     "metadata": {},
     "output_type": "execute_result"
    }
   ],
   "source": [
    "txt = \"awesome work experience\"\n",
    "preprocessed_txt = preprocessing(txt)\n",
    "vectorized_txt = vectorizer(preprocessed_txt, tokens)\n",
    "prediction = get_prediction(vectorized_txt)\n",
    "prediction"
   ]
  },
  {
   "cell_type": "code",
   "execution_count": null,
   "id": "bfab19ee-2df7-41a7-935a-d73095eafb79",
   "metadata": {},
   "outputs": [],
   "source": []
  }
 ],
 "metadata": {
  "kernelspec": {
   "display_name": "Python 3 (ipykernel)",
   "language": "python",
   "name": "python3"
  },
  "language_info": {
   "codemirror_mode": {
    "name": "ipython",
    "version": 3
   },
   "file_extension": ".py",
   "mimetype": "text/x-python",
   "name": "python",
   "nbconvert_exporter": "python",
   "pygments_lexer": "ipython3",
   "version": "3.13.0"
  }
 },
 "nbformat": 4,
 "nbformat_minor": 5
}
